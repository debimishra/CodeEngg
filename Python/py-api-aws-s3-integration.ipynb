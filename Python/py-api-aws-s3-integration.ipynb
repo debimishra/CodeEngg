{
 "cells": [
  {
   "cell_type": "code",
   "execution_count": 1,
   "metadata": {},
   "outputs": [],
   "source": [
    "import requests\n",
    "import json\n",
    "import boto3\n",
    "import pandas "
   ]
  },
  {
   "cell_type": "code",
   "execution_count": 2,
   "metadata": {},
   "outputs": [],
   "source": [
    "#Connect to the URL as if you are opening it in browser\n",
    "#url = \"https://api.exchangeratesapi.io/history?start_at=2018-01-01&end_at=2020-12-01\"\n",
    "url = \"https://api.exchangeratesapi.io/latest?base=USD\"\n",
    "response = requests.get(url)"
   ]
  },
  {
   "cell_type": "code",
   "execution_count": 3,
   "metadata": {},
   "outputs": [
    {
     "name": "stdout",
     "output_type": "stream",
     "text": [
      "{\n",
      "    \"rates\": {\n",
      "        \"CAD\": 1.2775883576,\n",
      "        \"HKD\": 7.7520997921,\n",
      "        \"ISK\": 128.6486486486,\n",
      "        \"PHP\": 48.1022869023,\n",
      "        \"DKK\": 6.1841995842,\n",
      "        \"HUF\": 297.9875259875,\n",
      "        \"CZK\": 21.4045738046,\n",
      "        \"GBP\": 0.7304199584,\n",
      "        \"RON\": 4.0538877339,\n",
      "        \"SEK\": 8.4114760915,\n",
      "        \"IDR\": 14034.3534303534,\n",
      "        \"INR\": 72.9513513514,\n",
      "        \"BRL\": 5.4016632017,\n",
      "        \"RUB\": 74.3491891892,\n",
      "        \"HRK\": 6.2854885655,\n",
      "        \"JPY\": 105.5883575884,\n",
      "        \"THB\": 30.0191268191,\n",
      "        \"CHF\": 0.9016216216,\n",
      "        \"EUR\": 0.8316008316,\n",
      "        \"MYR\": 4.0655301455,\n",
      "        \"BGN\": 1.6264449064,\n",
      "        \"TRY\": 7.0942203742,\n",
      "        \"CNY\": 6.4547193347,\n",
      "        \"NOK\": 8.5426195426,\n",
      "        \"NZD\": 1.3920997921,\n",
      "        \"ZAR\": 14.943950104,\n",
      "        \"USD\": 1.0,\n",
      "        \"MXN\": 20.2120582121,\n",
      "        \"SGD\": 1.3361330561,\n",
      "        \"AUD\": 1.305031185,\n",
      "        \"ILS\": 3.2837422037,\n",
      "        \"KRW\": 1120.8066528067,\n",
      "        \"PLN\": 3.7275675676\n",
      "    },\n",
      "    \"base\": \"USD\",\n",
      "    \"date\": \"2021-02-08\"\n",
      "}\n"
     ]
    }
   ],
   "source": [
    "#Read the output\n",
    "data = response.text\n",
    "#Parse JSON – convert the string to JSON:\n",
    "parsed = json.loads(data)\n",
    "#Print the output\n",
    "print(json.dumps(parsed, indent=4))"
   ]
  },
  {
   "cell_type": "code",
   "execution_count": 4,
   "metadata": {},
   "outputs": [
    {
     "name": "stdout",
     "output_type": "stream",
     "text": [
      "Date: 2021-02-08 \n",
      "\n"
     ]
    }
   ],
   "source": [
    "date = parsed[\"date\"]\n",
    "print(\"Date:\", date, \"\\n\")"
   ]
  },
  {
   "cell_type": "code",
   "execution_count": 5,
   "metadata": {},
   "outputs": [
    {
     "name": "stdout",
     "output_type": "stream",
     "text": [
      "Rates are : {'CAD': 1.2775883576, 'HKD': 7.7520997921, 'ISK': 128.6486486486, 'PHP': 48.1022869023, 'DKK': 6.1841995842, 'HUF': 297.9875259875, 'CZK': 21.4045738046, 'GBP': 0.7304199584, 'RON': 4.0538877339, 'SEK': 8.4114760915, 'IDR': 14034.3534303534, 'INR': 72.9513513514, 'BRL': 5.4016632017, 'RUB': 74.3491891892, 'HRK': 6.2854885655, 'JPY': 105.5883575884, 'THB': 30.0191268191, 'CHF': 0.9016216216, 'EUR': 0.8316008316, 'MYR': 4.0655301455, 'BGN': 1.6264449064, 'TRY': 7.0942203742, 'CNY': 6.4547193347, 'NOK': 8.5426195426, 'NZD': 1.3920997921, 'ZAR': 14.943950104, 'USD': 1.0, 'MXN': 20.2120582121, 'SGD': 1.3361330561, 'AUD': 1.305031185, 'ILS': 3.2837422037, 'KRW': 1120.8066528067, 'PLN': 3.7275675676} \n",
      "\n"
     ]
    }
   ],
   "source": [
    "rate = parsed[\"rates\"]\n",
    "print(\"Rates are :\", rate, \"\\n\")"
   ]
  },
  {
   "cell_type": "code",
   "execution_count": 6,
   "metadata": {},
   "outputs": [],
   "source": [
    "# the json file where the output must be stored  \n",
    "json_file = open(\"Currency.json\", \"w\")  \n",
    "json.dump(rate, json_file, indent = 6) \n",
    "json_file.close()"
   ]
  },
  {
   "cell_type": "code",
   "execution_count": 7,
   "metadata": {},
   "outputs": [],
   "source": [
    "from botocore.exceptions import NoCredentialsError\n",
    "from botocore.exceptions import ClientError\n",
    "import logging"
   ]
  },
  {
   "cell_type": "code",
   "execution_count": 8,
   "metadata": {},
   "outputs": [],
   "source": [
    "AWSAccessKeyId = 'XXXX'\n",
    "AWSSecretKey = 'XXXX'"
   ]
  },
  {
   "cell_type": "code",
   "execution_count": 9,
   "metadata": {},
   "outputs": [],
   "source": [
    "def upload_to_aws(local_file, bucket, s3_file):\n",
    "    s3 = boto3.client('s3', aws_access_key_id=AWSAccessKeyId,\n",
    "                      aws_secret_access_key=AWSSecretKey,\n",
    "                     region_name = 'us-west-1')\n",
    "\n",
    "    try:\n",
    "        s3.upload_file(local_file, bucket, s3_file)\n",
    "        print(\"Upload Successful\")\n",
    "        return True\n",
    "    except FileNotFoundError:\n",
    "        print(\"The file was not found\")\n",
    "        return False\n",
    "    except NoCredentialsError:\n",
    "        print(\"Credentials not available\")\n",
    "        return False\n",
    "    except ClientError as e:\n",
    "        logging.error(e)\n",
    "        return False"
   ]
  },
  {
   "cell_type": "code",
   "execution_count": 12,
   "metadata": {},
   "outputs": [
    {
     "name": "stdout",
     "output_type": "stream",
     "text": [
      "Upload Successful\n"
     ]
    }
   ],
   "source": [
    "uploaded = upload_to_aws(\"C:\\\\Users\\\\Jay-Jaganath\\\\Desktop\\\\py-s3-upload\\\\Currency.json\", 'debimis', 'Currency.json')"
   ]
  }
 ],
 "metadata": {
  "kernelspec": {
   "display_name": "Python 3",
   "language": "python",
   "name": "python3"
  },
  "language_info": {
   "codemirror_mode": {
    "name": "ipython",
    "version": 3
   },
   "file_extension": ".py",
   "mimetype": "text/x-python",
   "name": "python",
   "nbconvert_exporter": "python",
   "pygments_lexer": "ipython3",
   "version": "3.7.6"
  }
 },
 "nbformat": 4,
 "nbformat_minor": 4
}
